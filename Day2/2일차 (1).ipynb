{
  "nbformat": 4,
  "nbformat_minor": 0,
  "metadata": {
    "colab": {
      "provenance": []
    },
    "kernelspec": {
      "name": "python3",
      "display_name": "Python 3"
    },
    "language_info": {
      "name": "python"
    }
  },
  "cells": [
    {
      "cell_type": "markdown",
      "source": [
        "# **순전파**"
      ],
      "metadata": {
        "id": "83h_z_B8NhfQ"
      }
    },
    {
      "cell_type": "code",
      "execution_count": 3,
      "metadata": {
        "id": "nN0U6pt7NfVE",
        "colab": {
          "base_uri": "https://localhost:8080/"
        },
        "outputId": "3f1dcaed-b4d8-4736-806c-981ecca72c60"
      },
      "outputs": [
        {
          "output_type": "stream",
          "name": "stdout",
          "text": [
            "입력 벡터 x: [[0.5 0.8 0.2]]\n",
            "은닉층 선형 출력 z1: [[0.8 1.4]]\n",
            "은닉층 활성화 a1 (ReLU): [[0.8 1.4]]\n",
            "출력층 선형 출력 z2: [[0.7]]\n",
            "최종 예측 y_pred (ReLU): [[0.7]]\n"
          ]
        }
      ],
      "source": [
        "import numpy as np\n",
        "# ReLU 함수 정의\n",
        "def relu(x):return np.maximum(0,x)\n",
        "# 입력층 데이터(1*3)\n",
        "x = np.array([[0.5, 0.8, 0.2]])\n",
        "# 은닉층 가중치(3*2), 편향(1*2)\n",
        "w1 = np.array([\n",
        "    [1.0, -1.0],\n",
        "    [0.0, 2.0],\n",
        "    [1.0, 0.5]\n",
        "])\n",
        "\n",
        "b1 = np.array([[0.1, 0.2]])\n",
        "# 은닉층 계산\n",
        "z1 = x@ w1 + b1\n",
        "a1 = relu(z1)\n",
        "# 출력층 가중치(2*1), 편향(1*1)\n",
        "w2 = np.array([\n",
        "    [2.0],\n",
        "    [-1.0]\n",
        "])\n",
        "\n",
        "b2 = np.array([[0.5]])\n",
        "# 출력층 계산\n",
        "z2 = a1 @ w2 + b2\n",
        "y_pred = relu(z2)\n",
        "# 결과 출력\n",
        "print(\"입력 벡터 x:\", x)\n",
        "print(\"은닉층 선형 출력 z1:\", z1)\n",
        "print(\"은닉층 활성화 a1 (ReLU):\", a1)\n",
        "print(\"출력층 선형 출력 z2:\", z2)\n",
        "print(\"최종 예측 y_pred (ReLU):\", y_pred)"
      ]
    },
    {
      "cell_type": "markdown",
      "source": [
        "순전파"
      ],
      "metadata": {
        "id": "51UeMrohEJfr"
      }
    },
    {
      "cell_type": "markdown",
      "source": [],
      "metadata": {
        "id": "7rszJ_zwEICV"
      }
    },
    {
      "cell_type": "markdown",
      "source": [
        "# **역전파 (직접 미분)**"
      ],
      "metadata": {
        "id": "YMtndb5qOgUX"
      }
    },
    {
      "cell_type": "code",
      "source": [
        "import numpy as np\n",
        "\n",
        "# ReLU 함수와 도함수 정의\n",
        "def relu(x):\n",
        "  return np.maximum(0, x)\n",
        "\n",
        "def relu_deriv(x):\n",
        "  return (x > 0).astype(float)\n",
        "# 입력층 데이터(1*3)\n",
        "x = np.array([[0.5, 0.8, 0.2]])\n",
        "# 정답값\n",
        "y = np.array([[1.0]])\n",
        "# 은닉층 가중치(3*2), 편향(1*2)\n",
        "w1 = np.array([\n",
        "    [1.0, -1.0],\n",
        "    [0.0, 2.0],\n",
        "    [1.0, 0.5]\n",
        "])\n",
        "\n",
        "b1 = np.array([[0.1, 0.2]])\n",
        "# 출력층 가중치(2*1), 편향(1*1)\n",
        "w2 = np.array([\n",
        "    [2.0],\n",
        "    [-1.0]\n",
        "])\n",
        "\n",
        "b2 = np.array([[0.5]])\n",
        "# 순전파 계산\n",
        "z1 = x@ w1 + b1\n",
        "a1 = relu(z1)\n",
        "z2 = a1 @ w2 + b2\n",
        "y_pred = relu(z2)\n",
        "# 손실함수\n",
        "loss = 0.5 * (y_pred - y) ** 2\n",
        "# --- 역전파 ---\n",
        "# 출력층 계산\n",
        "# dL_dW2 = dL_dy * dy_dz2 * dz2_dW2\n",
        "dL_dy = y_pred - y                     # dL/dy_pred\n",
        "dy_dz2 = relu_deriv(z2)                # ReLU 미분\n",
        "dz2 = dL_dy * dy_dz2                   # dL/dz2 (1,1)\n",
        "\n",
        "dw2 = a1.T @ dz2                       # (2,1)\n",
        "db2 = dz2                              # (1,1)\n",
        "\n",
        "# 은닉층 계산\n",
        "dz1 = dz2 @ w2.T * relu_deriv(z1)      # (1,2)\n",
        "dw1 = x.T @ dz1                        # (3,2)\n",
        "db1 = dz1                              # (1,2)\n",
        "\n",
        "# 가중치 및 편향 업데이트\n",
        "lr =0.1\n",
        "\n",
        "w1 -= lr * dw1\n",
        "b1 -= lr * db1\n",
        "w2 -= lr * dw2\n",
        "b2 -= lr * db2\n",
        "# 두 번째 순전파\n",
        "z1_2 = x @ w1 + b1\n",
        "a1_2 = relu(z1_2)\n",
        "z2_2 = a1_2 @ w2 + b2\n",
        "y_pred_2 = relu(z2_2)\n",
        "loss_2 = 0.5  * (y_pred_2 - y) ** 2\n",
        "\n",
        "# 결과 출력\n",
        "print(\"---순전파---\")\n",
        "print(\"z1:\", z1)\n",
        "print(\"a1:\", a1)\n",
        "print(\"z2:\", z2)\n",
        "print(\"y_pred:\", y_pred)\n",
        "print(\"loss:\", loss.item())\n",
        "\n",
        "print(\"\\n---역전파---\")\n",
        "print(\"dw2:\", dw2)\n",
        "print(\"db2:\", db2)\n",
        "print(\"dw1:\", dw1)\n",
        "print(\"db1:\", db1)\n",
        "\n",
        "print(\"\\n---업데이트 후---\")\n",
        "print(\"W1:\", w1)\n",
        "print(\"b1:\", b1)\n",
        "print(\"W2:\", w2)\n",
        "print(\"b2:\", b2)\n",
        "\n",
        "print(\"\\n---두 번째 순전파---\")\n",
        "print(\"z1:\", z1_2)\n",
        "print(\"a1:\", a1_2)\n",
        "print(\"z2:\", z2_2)\n",
        "print(\"y_pred:\", y_pred_2)\n",
        "print(\"loss:\", loss_2.item())"
      ],
      "metadata": {
        "id": "es51wemYOisf",
        "colab": {
          "base_uri": "https://localhost:8080/"
        },
        "outputId": "87ca8190-ddb8-44c2-e803-796e18f1792b"
      },
      "execution_count": 6,
      "outputs": [
        {
          "output_type": "stream",
          "name": "stdout",
          "text": [
            "---순전파---\n",
            "z1: [[0.8 1.4]]\n",
            "a1: [[0.8 1.4]]\n",
            "z2: [[0.7]]\n",
            "y_pred: [[0.7]]\n",
            "loss: 0.04500000000000008\n",
            "\n",
            "---역전파---\n",
            "dw2: [[-0.24]\n",
            " [-0.42]]\n",
            "db2: [[-0.3]]\n",
            "dw1: [[-0.3   0.15]\n",
            " [-0.48  0.24]\n",
            " [-0.12  0.06]]\n",
            "db1: [[-0.6  0.3]]\n",
            "\n",
            "---업데이트 후---\n",
            "W1: [[ 1.03  -1.015]\n",
            " [ 0.048  1.976]\n",
            " [ 1.012  0.494]]\n",
            "b1: [[0.16 0.17]]\n",
            "W2: [[ 2.024]\n",
            " [-0.958]]\n",
            "b2: [[0.53]]\n",
            "\n",
            "---두 번째 순전파---\n",
            "z1: [[0.9158 1.3421]]\n",
            "a1: [[0.9158 1.3421]]\n",
            "z2: [[1.0978474]]\n",
            "y_pred: [[1.0978474]]\n",
            "loss: 0.004787056843380046\n"
          ]
        }
      ]
    },
    {
      "cell_type": "markdown",
      "source": [
        "역전파 직접미분"
      ],
      "metadata": {
        "id": "cynqYEKwNdGH"
      }
    },
    {
      "cell_type": "markdown",
      "source": [
        "# **역전파(pytorch 사용)**"
      ],
      "metadata": {
        "id": "jya-pEPZPuqM"
      }
    },
    {
      "cell_type": "code",
      "source": [
        "import torch\n",
        "import torch.nn.functional as F\n",
        "\n",
        "# 입력 데이터와 정답\n",
        "x = torch.tensor([[0.5, 0.8, 0.2]], dtype = torch.float32)\n",
        "y = torch.tensor([[1.0]], dtype = torch.float32)\n",
        "\n",
        "# 가중치 및 편향\n",
        "W1 = torch.tensor([[1.0, -1.0],\n",
        "                   [0.0, 2.0],\n",
        "                    [1.0, 0.5]], requires_grad = True)\n",
        "b1 = torch.tensor([[0.1, 0.2]], dtype = torch.float32, requires_grad = True)\n",
        "\n",
        "W2 = torch.tensor([[2.0],\n",
        "                   [-1.0]], dtype=torch.float32, requires_grad=True)\n",
        "\n",
        "b2 = torch.tensor([[0.5]], dtype=torch.float32, requires_grad=True)\n",
        "\n",
        "# 순전파\n",
        "z1 = x @ W1 + b1\n",
        "a1 = F.relu(z1)\n",
        "z2 = a1 @ W2+ b2\n",
        "y_pred = F.relu(z2)\n",
        "loss = 0.5 * (y_pred - y) ** 2\n",
        "# 역전파\n",
        "loss.backward()\n",
        "\n",
        "# 파라미터 업데이트\n",
        "lr =0.1\n",
        "with torch.no_grad():\n",
        "  W1 -= lr * W1.grad\n",
        "  b1 -= lr * b1.grad\n",
        "  W2 -= lr * W2.grad\n",
        "  b2 -= lr * b2.grad\n",
        "# 두 번째 순전파\n",
        "z1_2 = x @ W1 + b1\n",
        "a1_2 = F.relu(z1_2)\n",
        "z2_2 = a1 @ W2+ b2\n",
        "y_pred_2 = F.relu(z2_2)\n",
        "loss_2 = 0.5 * (y_pred_2 - y) ** 2\n",
        "\n",
        "# 결과 출력\n",
        "print(\"y_pred: \", y_pred_2.item())"
      ],
      "metadata": {
        "id": "kv-Ti_lmPw-S",
        "colab": {
          "base_uri": "https://localhost:8080/"
        },
        "outputId": "961c61b9-639a-4648-a83a-4a09e6365b60"
      },
      "execution_count": 19,
      "outputs": [
        {
          "output_type": "stream",
          "name": "stdout",
          "text": [
            "y_pred:  0.8079999089241028\n"
          ]
        }
      ]
    },
    {
      "cell_type": "markdown",
      "source": [
        "역전파 파이토치사용"
      ],
      "metadata": {
        "id": "AvPITP4QT5cY"
      }
    },
    {
      "cell_type": "markdown",
      "source": [
        "# **순전파+역전파 for문**"
      ],
      "metadata": {
        "id": "4I6nPs2TUdY_"
      }
    },
    {
      "cell_type": "code",
      "source": [
        "import torch\n",
        "import torch.nn.functional as F\n",
        "# 입력 데이터와 정답\n",
        "x = torch.tensor([[0.5, 0.8, 0.2]], dtype = torch.float32)\n",
        "y = torch.tensor([[1.0]], dtype = torch.float32)\n",
        "\n",
        "# 가중치 및 편향\n",
        "W1 = torch.tensor([[1.0, -1.0],\n",
        "                   [0.0, 2.0],\n",
        "                    [1.0, 0.5]], requires_grad = True)\n",
        "b1 = torch.tensor([[0.1, 0.2]], dtype = torch.float32, requires_grad = True)\n",
        "\n",
        "W2 = torch.tensor([[2.0],\n",
        "                   [-1.0]], dtype=torch.float32, requires_grad=True)\n",
        "\n",
        "b2 = torch.tensor([[0.5]], dtype=torch.float32, requires_grad=True)\n",
        "\n",
        "# 학습 설정\n",
        "lr = 0.1\n",
        "epochs = 10\n",
        "\n",
        "print(\"---학습 시작---\")\n",
        "for epoch in range(1, epochs+1):\n",
        "  # 순전파\n",
        "  z1 = x @ W1 + b1\n",
        "  a1 = F.relu(z1)\n",
        "  z2 = a1 @ W2+ b2\n",
        "  y_pred = F.relu(z2)\n",
        "  loss = 0.5 * (y_pred - y) ** 2\n",
        "\n",
        "  # 역전파\n",
        "  loss.backward()\n",
        "\n",
        "  # 파라미터 업데이트\n",
        "  lr =0.1\n",
        "  with torch.no_grad():\n",
        "    W1 -= lr * W1.grad\n",
        "    b1 -= lr * b1.grad\n",
        "    W2 -= lr * W2.grad\n",
        "    b2 -= lr * b2.grad\n",
        "\n",
        "    #  기울기 초기화\n",
        "    W1.grad.zero_()\n",
        "    b1.grad.zero_()\n",
        "    W2.grad.zero_()\n",
        "    b2.grad.zero_()\n",
        "  print(\"Epoch\", epoch, \"l y_pred: \", y_pred.item(), \"l loss: \", loss.item())\n",
        "\n",
        "# 두 번째 순전파\n",
        "z1_2 = x @ W1 + b1\n",
        "a1_2 = F.relu(z1_2)\n",
        "z2_2 = a1 @ W2+ b2\n",
        "y_pred_2 = F.relu(z2_2)\n",
        "loss_2 = 0.5 * (y_pred_2 - y) ** 2\n",
        "\n",
        "# 결과 출력\n",
        "print(\"y_pred: \", y_pred_2.item())"
      ],
      "metadata": {
        "id": "0yxwN9skUho3",
        "colab": {
          "base_uri": "https://localhost:8080/"
        },
        "outputId": "42351de6-c3ff-4ed8-e663-d48e390a32b5"
      },
      "execution_count": 24,
      "outputs": [
        {
          "output_type": "stream",
          "name": "stdout",
          "text": [
            "---학습 시작---\n",
            "Epoch 1 l y_pred:  0.6999999284744263 l loss:  0.045000020414590836\n",
            "Epoch 2 l y_pred:  1.0978477001190186 l loss:  0.004787086043506861\n",
            "Epoch 3 l y_pred:  0.9676424264907837 l loss:  0.0005235062562860548\n",
            "Epoch 4 l y_pred:  1.0106127262115479 l loss:  5.63149806112051e-05\n",
            "Epoch 5 l y_pred:  0.9965112209320068 l loss:  6.085789664211916e-06\n",
            "Epoch 6 l y_pred:  1.0011460781097412 l loss:  6.567474883922841e-07\n",
            "Epoch 7 l y_pred:  0.9996234178543091 l loss:  7.090705622658788e-08\n",
            "Epoch 8 l y_pred:  1.0001239776611328 l loss:  7.685230229981244e-09\n",
            "Epoch 9 l y_pred:  0.9999592304229736 l loss:  8.310792054544436e-10\n",
            "Epoch 10 l y_pred:  1.0000131130218506 l loss:  8.597567102697212e-11\n",
            "y_pred:  1.000008225440979\n"
          ]
        }
      ]
    },
    {
      "cell_type": "code",
      "source": [
        "\n"
      ],
      "metadata": {
        "id": "hftjhs59YNqP"
      },
      "execution_count": null,
      "outputs": []
    }
  ]
}